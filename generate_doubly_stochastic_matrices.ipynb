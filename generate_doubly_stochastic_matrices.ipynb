{
 "cells": [
  {
   "cell_type": "code",
   "execution_count": 13,
   "id": "b2f8d001",
   "metadata": {},
   "outputs": [],
   "source": [
    "using BirkhoffDecomposition\n",
    "using JSON3"
   ]
  },
  {
   "cell_type": "code",
   "execution_count": 14,
   "id": "98455c43",
   "metadata": {},
   "outputs": [],
   "source": [
    "n = 8\n",
    "dataset_size = 10000\n",
    "\n",
    "dataset = Dict([])\n",
    "for i in range(0,dataset_size)\n",
    "    X, P, w = BirkhoffDecomposition.randomPermutations(n, num_perm=n)\n",
    "    entry = Dict([(\"permutations\", Int16.(P)), \n",
    "                        (\"weights\", w), \n",
    "                        (\"doubly_stochastic_matrix\", X),\n",
    "                        (\"n\",n)]\n",
    "            )\n",
    "   dataset[i] = entry\n",
    "end\n",
    "file_name = \"dataset_\" * string(n) * \"_\" * string(dataset_size) * \".json\"\n",
    "open(file_name,\"a\") do io\n",
    "  JSON3.pretty(io, dataset)\n",
    "end"
   ]
  }
 ],
 "metadata": {
  "kernelspec": {
   "display_name": "Julia 1.9.4",
   "language": "julia",
   "name": "julia-1.9"
  },
  "language_info": {
   "file_extension": ".jl",
   "mimetype": "application/julia",
   "name": "julia",
   "version": "1.9.4"
  }
 },
 "nbformat": 4,
 "nbformat_minor": 5
}
