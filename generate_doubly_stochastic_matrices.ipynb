{
 "cells": [
  {
   "cell_type": "code",
   "execution_count": 85,
   "id": "b2f8d001",
   "metadata": {},
   "outputs": [],
   "source": [
    "using Random\n",
    "using JSON3"
   ]
  },
  {
   "cell_type": "code",
   "execution_count": 86,
   "id": "d8803b53",
   "metadata": {},
   "outputs": [
    {
     "data": {
      "text/plain": [
       "get_perm (generic function with 1 method)"
      ]
     },
     "metadata": {},
     "output_type": "display_data"
    }
   ],
   "source": [
    "function get_weights(x, max_interval)\n",
    "    intervals = rand(0:max_interval, x-1)\n",
    "    push!(intervals,0)\n",
    "    push!(intervals,max_interval)\n",
    "    intervals = sort(intervals)\n",
    "    return diff(intervals)\n",
    "end\n",
    "\n",
    "function get_perm(n)\n",
    "    P = Int16.(zeros(n,n))\n",
    "    perm = randperm(n)\n",
    "    for i=1:length(perm)\n",
    "        P[perm[i], i] = 1\n",
    "    end\n",
    "    return P, perm\n",
    "end"
   ]
  },
  {
   "cell_type": "code",
   "execution_count": 87,
   "id": "98455c43",
   "metadata": {},
   "outputs": [],
   "source": [
    "n = 16\n",
    "num_permutations = n*n\n",
    "\n",
    "dataset_size = 100\n",
    "dataset = Dict([])\n",
    "max_interval = 10^(length(string(n*n)) + 2)\n",
    "\n",
    "for i in range(0,dataset_size)\n",
    "  \n",
    "  X = zeros(n,n)\n",
    "  permutations = zeros(n,num_permutations)\n",
    "  weights = get_weights(num_permutations, max_interval)\n",
    "\n",
    "  # generate doubly stochastic matrix\n",
    "  for j=1:num_permutations\n",
    "    P, perm = get_perm(n)\n",
    "    X = X .+ weights[j]*P\n",
    "    permutations[:,j] = perm\n",
    "  end\n",
    "  # save doubly stochastic matrix, weights, and permutations\n",
    "  entry = Dict([(\"n\",n),\n",
    "    (\"scale\", max_interval), \n",
    "    (\"scaled_doubly_stochastic_matrix\", X),\n",
    "    (\"permutations\", Int16.(permutations)), \n",
    "    (\"weights\", weights)\n",
    "    ])\n",
    "  dataset[i] = entry\n",
    "\n",
    "end\n",
    "\n",
    "file_name = \"qbench/qbench_\" * string(n) * \"_dense.json\"\n",
    "\n",
    "open(file_name,\"w\") do io\n",
    "  JSON3.pretty(io, dataset)\n",
    "end"
   ]
  },
  {
   "cell_type": "markdown",
   "id": "0a19f9bb",
   "metadata": {},
   "source": [
    "### Recover DSM from permutations and weights"
   ]
  },
  {
   "cell_type": "code",
   "execution_count": 88,
   "id": "f7415547",
   "metadata": {},
   "outputs": [
    {
     "ename": "ArgumentError",
     "evalue": "ArgumentError: invalid JSON at byte position 1 while parsing type Any: InvalidChar\ndata/dataset_3_sparse.json\n",
     "output_type": "error",
     "traceback": [
      "ArgumentError: invalid JSON at byte position 1 while parsing type Any: InvalidChar\n",
      "data/dataset_3_sparse.json\n",
      "\n",
      "\n",
      "Stacktrace:\n",
      " [1] invalid(error::JSON3.Error, buf::Base.CodeUnits{UInt8, String}, pos::Int64, T::Type)\n",
      "   @ JSON3 ~/.julia/packages/JSON3/jSAdy/src/JSON3.jl:30\n",
      " [2] read!(buf::Base.CodeUnits{UInt8, String}, pos::Int64, len::Int64, b::UInt8, tape::Vector{UInt64}, tapeidx::Int64, ::Type{Any}, checkint::Bool; allow_inf::Bool)\n",
      "   @ JSON3 ~/.julia/packages/JSON3/jSAdy/src/read.jl:139\n",
      " [3] read!\n",
      "   @ ~/.julia/packages/JSON3/jSAdy/src/read.jl:87 [inlined]\n",
      " [4] read(json::String; jsonlines::Bool, numbertype::Nothing, kw::@Kwargs{})\n",
      "   @ JSON3 ~/.julia/packages/JSON3/jSAdy/src/read.jl:57\n",
      " [5] read(json::String)\n",
      "   @ JSON3 ~/.julia/packages/JSON3/jSAdy/src/read.jl:30\n",
      " [6] top-level scope\n",
      "   @ ~/Code/dsm-dataset/generate_doubly_stochastic_matrices.ipynb:3"
     ]
    }
   ],
   "source": [
    "using JSON3\n",
    "n = 3\n",
    "data = JSON3.read(\"data/dataset_\" * string(n) * \"_sparse.json\")\n",
    "D = data[\"1\"].doubly_stochastic_matrix\n",
    "D = reshape(D,n,n)\n",
    "\n",
    "num_perm = n\n",
    "\n",
    "M = Int16.(zeros(n*n,num_perm))\n",
    "perm = Int16.(reshape(data[\"1\"].permutations, n, num_perm))\n",
    "for i=1:num_perm\n",
    "    for j=1:n\n",
    "        M[(j-1)*n + perm[j,i],i] = 1\n",
    "    end\n",
    "end"
   ]
  },
  {
   "cell_type": "code",
   "execution_count": 89,
   "id": "af5a7e41",
   "metadata": {},
   "outputs": [
    {
     "ename": "UndefVarError",
     "evalue": "UndefVarError: `M` not defined",
     "output_type": "error",
     "traceback": [
      "UndefVarError: `M` not defined\n",
      "\n",
      "Stacktrace:\n",
      " [1] top-level scope\n",
      "   @ ~/Code/dsm-dataset/generate_doubly_stochastic_matrices.ipynb:1"
     ]
    }
   ],
   "source": [
    "reshape(M*Float64.(data[\"1\"].weights), n, n)"
   ]
  },
  {
   "cell_type": "code",
   "execution_count": 90,
   "id": "58bf6bcb",
   "metadata": {},
   "outputs": [
    {
     "ename": "UndefVarError",
     "evalue": "UndefVarError: `data` not defined",
     "output_type": "error",
     "traceback": [
      "UndefVarError: `data` not defined\n",
      "\n",
      "Stacktrace:\n",
      " [1] top-level scope\n",
      "   @ ~/Code/dsm-dataset/generate_doubly_stochastic_matrices.ipynb:1"
     ]
    }
   ],
   "source": [
    "reshape(data[\"1\"].doubly_stochastic_matrix, n, n)"
   ]
  }
 ],
 "metadata": {
  "kernelspec": {
   "display_name": "Julia 1.10.2",
   "language": "julia",
   "name": "julia-1.10"
  },
  "language_info": {
   "file_extension": ".jl",
   "mimetype": "application/julia",
   "name": "julia",
   "version": "1.10.2"
  }
 },
 "nbformat": 4,
 "nbformat_minor": 5
}
