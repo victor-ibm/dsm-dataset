{
 "cells": [
  {
   "cell_type": "code",
   "execution_count": 2,
   "id": "b2f8d001",
   "metadata": {},
   "outputs": [],
   "source": [
    "using Random\n",
    "using JSON3"
   ]
  },
  {
   "cell_type": "code",
   "execution_count": 3,
   "id": "d8803b53",
   "metadata": {},
   "outputs": [
    {
     "data": {
      "text/plain": [
       "get_perm (generic function with 1 method)"
      ]
     },
     "metadata": {},
     "output_type": "display_data"
    }
   ],
   "source": [
    "function get_weights(x, max_interval)\n",
    "    intervals = rand(0:max_interval, x-1)\n",
    "    push!(intervals,0)\n",
    "    push!(intervals,max_interval)\n",
    "    intervals = sort(intervals)\n",
    "    return diff(intervals)\n",
    "end\n",
    "\n",
    "function get_perm(n)\n",
    "    P = Int16.(zeros(n,n))\n",
    "    perm = randperm(n)\n",
    "    for i=1:length(perm)\n",
    "        P[perm[i], i] = 1\n",
    "    end\n",
    "    return P, perm\n",
    "end"
   ]
  },
  {
   "cell_type": "code",
   "execution_count": 4,
   "id": "98455c43",
   "metadata": {},
   "outputs": [],
   "source": [
    "n = 3\n",
    "num_permutations = n\n",
    "\n",
    "dataset_size = 10000\n",
    "dataset = Dict([])\n",
    "max_interval = 10^(length(string(n*n)) + 2)\n",
    "\n",
    "for i in range(0,dataset_size)\n",
    "  \n",
    "  X = zeros(n,n)\n",
    "  permutations = zeros(n,num_permutations)\n",
    "  weights = get_weights(num_permutations, max_interval)\n",
    "\n",
    "  # generate doubly stochastic matrix\n",
    "  for j=1:num_permutations\n",
    "    P, perm = get_perm(n)\n",
    "    X = X .+ weights[j]*P\n",
    "    permutations[:,j] = perm\n",
    "  end\n",
    "  # save doubly stochastic matrix, weights, and permutations\n",
    "  entry = Dict([(\"permutations\", Int16.(permutations)), \n",
    "    (\"weights\", weights./max_interval), \n",
    "    (\"doubly_stochastic_matrix\", X./max_interval),\n",
    "    (\"n\",n)]\n",
    "    )\n",
    "  dataset[i] = entry\n",
    "\n",
    "end\n",
    "\n",
    "file_name = \"data/dataset_\" * string(n) * \"_\" * string(dataset_size) * \"_sparse.json\"\n",
    "\n",
    "open(file_name,\"w\") do io\n",
    "  JSON3.pretty(io, dataset)\n",
    "end"
   ]
  },
  {
   "cell_type": "markdown",
   "id": "0a19f9bb",
   "metadata": {},
   "source": [
    "### Recover DSM from permutations and weights"
   ]
  },
  {
   "cell_type": "code",
   "execution_count": 5,
   "id": "f7415547",
   "metadata": {},
   "outputs": [],
   "source": [
    "using JSON3\n",
    "n = 3\n",
    "data = JSON3.read(\"data/dataset_\" * string(n) * \"_10000_sparse.json\")\n",
    "D = data[\"1\"].doubly_stochastic_matrix\n",
    "D = reshape(D,n,n)\n",
    "\n",
    "num_perm = n\n",
    "\n",
    "M = Int16.(zeros(n*n,num_perm))\n",
    "perm = Int16.(reshape(data[\"1\"].permutations, n, num_perm))\n",
    "for i=1:num_perm\n",
    "    for j=1:n\n",
    "        M[(j-1)*n + perm[j,i],i] = 1\n",
    "    end\n",
    "end"
   ]
  },
  {
   "cell_type": "code",
   "execution_count": 6,
   "id": "af5a7e41",
   "metadata": {},
   "outputs": [
    {
     "data": {
      "text/plain": [
       "3×3 Matrix{Float64}:\n",
       " 0.0    0.18   0.82\n",
       " 0.839  0.161  0.0\n",
       " 0.161  0.659  0.18"
      ]
     },
     "metadata": {},
     "output_type": "display_data"
    }
   ],
   "source": [
    "reshape(M*Float64.(data[\"1\"].weights), n, n)"
   ]
  },
  {
   "cell_type": "code",
   "execution_count": 7,
   "id": "58bf6bcb",
   "metadata": {},
   "outputs": [
    {
     "data": {
      "text/plain": [
       "3×3 reshape(::JSON3.Array{Union{Float64, Int64}, Vector{UInt8}, SubArray{UInt64, 1, Vector{UInt64}, Tuple{UnitRange{Int64}}, true}}, 3, 3) with eltype Union{Float64, Int64}:\n",
       " 0      0.18   0.82\n",
       " 0.839  0.161  0\n",
       " 0.161  0.659  0.18"
      ]
     },
     "metadata": {},
     "output_type": "display_data"
    }
   ],
   "source": [
    "reshape(data[\"1\"].doubly_stochastic_matrix, n, n)"
   ]
  }
 ],
 "metadata": {
  "kernelspec": {
   "display_name": "Julia 1.10.2",
   "language": "julia",
   "name": "julia-1.10"
  },
  "language_info": {
   "file_extension": ".jl",
   "mimetype": "application/julia",
   "name": "julia",
   "version": "1.10.2"
  }
 },
 "nbformat": 4,
 "nbformat_minor": 5
}
