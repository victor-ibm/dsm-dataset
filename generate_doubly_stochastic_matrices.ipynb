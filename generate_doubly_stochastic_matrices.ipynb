{
 "cells": [
  {
   "cell_type": "code",
   "execution_count": 6,
   "id": "d8803b53",
   "metadata": {},
   "outputs": [
    {
     "data": {
      "text/plain": [
       "get_perm (generic function with 1 method)"
      ]
     },
     "metadata": {},
     "output_type": "display_data"
    }
   ],
   "source": [
    "using Random\n",
    "using JSON3\n",
    "\n",
    "function get_weights(x, max_interval)\n",
    "    intervals = rand(0:max_interval, x-1)\n",
    "    push!(intervals,0)\n",
    "    push!(intervals,max_interval)\n",
    "    intervals = sort(intervals)\n",
    "    return diff(intervals)\n",
    "end\n",
    "\n",
    "function get_perm(n)\n",
    "    P = Int16.(zeros(n,n))\n",
    "    perm = randperm(n)\n",
    "    for i=1:length(perm)\n",
    "        P[perm[i], i] = 1\n",
    "    end\n",
    "    return P, perm\n",
    "end"
   ]
  },
  {
   "cell_type": "code",
   "execution_count": 7,
   "id": "98455c43",
   "metadata": {},
   "outputs": [],
   "source": [
    "seed = 1\n",
    "Random.seed!(seed)\n",
    "dataset_name = \"sparse\"\n",
    "\n",
    "for n = 3:16\n",
    "\n",
    "  if (dataset_name == \"sparse\")\n",
    "    num_permutations = n\n",
    "  elseif (dataset_name == \"dense\")\n",
    "    num_permutations = n^2\n",
    "  else\n",
    "    print(\"Choose 'sparse' or 'dense'\")\n",
    "  end\n",
    "\n",
    "  dataset_size = 100\n",
    "  dataset = Dict([])\n",
    "  max_interval = 10^(length(string(n*n)) + 2)\n",
    "\n",
    "  for i=1:dataset_size\n",
    "    \n",
    "    X = zeros(n,n)\n",
    "    permutations = zeros(n,num_permutations)\n",
    "    weights = get_weights(num_permutations, max_interval)\n",
    "\n",
    "    # generate doubly stochastic matrix\n",
    "    for j=1:num_permutations\n",
    "      P, perm = get_perm(n)\n",
    "      X = X .+ weights[j]*P\n",
    "      permutations[:,j] = perm\n",
    "    end\n",
    "\n",
    "    sum_weights = sum(weights)\n",
    "\n",
    "    # save doubly stochastic matrix, weights, and permutations\n",
    "    entry = Dict([(\"n\",n),\n",
    "      (\"scale\", max_interval), \n",
    "      (\"doubly_stochastic_matrix\", X / sum_weights),\n",
    "      (\"scaled_doubly_stochastic_matrix\", X),\n",
    "      (\"permutations\", Int16.(permutations)), \n",
    "      (\"weights\", weights)\n",
    "      ])\n",
    "    dataset[i] = entry\n",
    "\n",
    "  end\n",
    "\n",
    "  file_name = \"qbench/qbench_\" * string(n) * \"_\" * dataset_name * \".json\"\n",
    "\n",
    "  open(file_name,\"w\") do io\n",
    "    JSON3.pretty(io, dataset)\n",
    "  end\n",
    "  \n",
    "end"
   ]
  },
  {
   "cell_type": "markdown",
   "id": "0a19f9bb",
   "metadata": {},
   "source": [
    "### Recover DSM from permutations and weights"
   ]
  },
  {
   "cell_type": "code",
   "execution_count": null,
   "id": "f7415547",
   "metadata": {},
   "outputs": [],
   "source": [
    "using JSON3\n",
    "n = 3\n",
    "data = JSON3.read(\"data/dataset_\" * string(n) * \"_sparse.json\")\n",
    "D = data[\"1\"].doubly_stochastic_matrix\n",
    "D = reshape(D,n,n)\n",
    "\n",
    "num_perm = n\n",
    "\n",
    "M = Int16.(zeros(n*n,num_perm))\n",
    "perm = Int16.(reshape(data[\"1\"].permutations, n, num_perm))\n",
    "for i=1:num_perm\n",
    "    for j=1:n\n",
    "        M[(j-1)*n + perm[j,i],i] = 1\n",
    "    end\n",
    "end"
   ]
  },
  {
   "cell_type": "code",
   "execution_count": null,
   "id": "af5a7e41",
   "metadata": {},
   "outputs": [],
   "source": [
    "reshape(M*Float64.(data[\"1\"].weights), n, n)"
   ]
  },
  {
   "cell_type": "code",
   "execution_count": null,
   "id": "58bf6bcb",
   "metadata": {},
   "outputs": [],
   "source": [
    "reshape(data[\"1\"].doubly_stochastic_matrix, n, n)"
   ]
  }
 ],
 "metadata": {
  "kernelspec": {
   "display_name": "Julia 1.10.5",
   "language": "julia",
   "name": "julia-1.10"
  },
  "language_info": {
   "file_extension": ".jl",
   "mimetype": "application/julia",
   "name": "julia",
   "version": "1.10.5"
  }
 },
 "nbformat": 4,
 "nbformat_minor": 5
}
