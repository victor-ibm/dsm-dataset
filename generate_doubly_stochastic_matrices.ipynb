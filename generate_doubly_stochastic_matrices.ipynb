{
 "cells": [
  {
   "cell_type": "code",
   "execution_count": 1,
   "id": "b2f8d001",
   "metadata": {},
   "outputs": [],
   "source": [
    "using BirkhoffDecomposition\n",
    "using JSON3"
   ]
  },
  {
   "cell_type": "code",
   "execution_count": 2,
   "id": "98455c43",
   "metadata": {},
   "outputs": [],
   "source": [
    "n = 3\n",
    "dataset_size = 10000\n",
    "\n",
    "dataset = Dict([])\n",
    "for i in range(0,dataset_size)\n",
    "    X, P, w = BirkhoffDecomposition.randomPermutations(n)\n",
    "    entry = Dict([(\"permutations\", Int16.(P)), \n",
    "                        (\"weights\", w), \n",
    "                        (\"doubly_stochastic_matrix\", X),\n",
    "                        (\"n\",n)]\n",
    "            )\n",
    "   dataset[i] = entry\n",
    "end\n",
    "file_name = \"dataset_\" * string(n) * \"_\" * string(dataset_size) * \"_dense.json\"\n",
    "open(file_name,\"w\") do io\n",
    "  JSON3.pretty(io, dataset)\n",
    "end"
   ]
  },
  {
   "cell_type": "code",
   "execution_count": 3,
   "id": "f7415547",
   "metadata": {},
   "outputs": [
    {
     "data": {
      "text/plain": [
       "3×3 reshape(::JSON3.Array{Float64, Vector{UInt8}, SubArray{UInt64, 1, Vector{UInt64}, Tuple{UnitRange{Int64}}, true}}, 3, 3) with eltype Float64:\n",
       " 0.161882  0.500307  0.337811\n",
       " 0.497078  0.298654  0.204268\n",
       " 0.34104   0.201039  0.457921"
      ]
     },
     "metadata": {},
     "output_type": "display_data"
    }
   ],
   "source": [
    "using JSON3\n",
    "\n",
    "data = JSON3.read(\"dataset_3_10000_dense.json\")\n",
    "D = data[\"1\"].doubly_stochastic_matrix\n",
    "D = reshape(D,n,n)"
   ]
  }
 ],
 "metadata": {
  "kernelspec": {
   "display_name": "Julia 1.10.2",
   "language": "julia",
   "name": "julia-1.10"
  },
  "language_info": {
   "file_extension": ".jl",
   "mimetype": "application/julia",
   "name": "julia",
   "version": "1.10.2"
  }
 },
 "nbformat": 4,
 "nbformat_minor": 5
}
