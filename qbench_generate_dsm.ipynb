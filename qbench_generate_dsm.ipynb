{
 "cells": [
  {
   "cell_type": "code",
   "execution_count": 169,
   "id": "b2f8d001",
   "metadata": {},
   "outputs": [],
   "source": [
    "using Random\n",
    "using JSON3"
   ]
  },
  {
   "cell_type": "code",
   "execution_count": 170,
   "id": "d8803b53",
   "metadata": {},
   "outputs": [
    {
     "data": {
      "text/plain": [
       "get_perm (generic function with 1 method)"
      ]
     },
     "metadata": {},
     "output_type": "display_data"
    }
   ],
   "source": [
    "function get_weights(x, max_interval)\n",
    "    intervals = rand(0:max_interval, x-1)\n",
    "    push!(intervals,0)\n",
    "    push!(intervals,max_interval)\n",
    "    intervals = sort(intervals)\n",
    "    return diff(intervals)\n",
    "end\n",
    "\n",
    "function get_perm(n)\n",
    "    P = Int16.(zeros(n,n))\n",
    "    perm = randperm(n)\n",
    "    for i=1:length(perm)\n",
    "        P[perm[i], i] = 1\n",
    "    end\n",
    "    return P, perm\n",
    "end"
   ]
  },
  {
   "cell_type": "code",
   "execution_count": 171,
   "id": "98455c43",
   "metadata": {},
   "outputs": [],
   "source": [
    "n = 16\n",
    "num_permutations = n*n\n",
    "\n",
    "dataset_size = 100\n",
    "dataset = Dict([])\n",
    "max_interval = 10^(length(string(n*n)) + 2)\n",
    "\n",
    "for i in range(0,dataset_size)\n",
    "  \n",
    "  X = zeros(n,n)\n",
    "  permutations = zeros(n,num_permutations)\n",
    "  weights = get_weights(num_permutations, max_interval)\n",
    "\n",
    "  # generate doubly stochastic matrix\n",
    "  for j=1:num_permutations\n",
    "    P, perm = get_perm(n)\n",
    "    X = X .+ weights[j]*P\n",
    "    permutations[:,j] = perm\n",
    "  end\n",
    "  # save doubly stochastic matrix, weights, and permutations\n",
    "  entry = Dict([(\"n\",n),\n",
    "    (\"scale\", max_interval), \n",
    "    (\"scaled_doubly_stochastic_matrix\", X),\n",
    "    (\"permutations\", Int16.(permutations)), \n",
    "    (\"weights\", weights)\n",
    "    ])\n",
    "  dataset[i] = entry\n",
    "\n",
    "end\n",
    "\n",
    "file_name = \"qbench/qbench_\" * string(n) * \"_dense.json\"\n",
    "\n",
    "open(file_name,\"w\") do io\n",
    "  JSON3.pretty(io, dataset)\n",
    "end"
   ]
  }
 ],
 "metadata": {
  "kernelspec": {
   "display_name": "Julia 1.10.2",
   "language": "julia",
   "name": "julia-1.10"
  },
  "language_info": {
   "file_extension": ".jl",
   "mimetype": "application/julia",
   "name": "julia",
   "version": "1.10.2"
  }
 },
 "nbformat": 4,
 "nbformat_minor": 5
}
