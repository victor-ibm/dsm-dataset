{
 "cells": [
  {
   "cell_type": "markdown",
   "metadata": {},
   "source": [
    "## Benchmark"
   ]
  },
  {
   "cell_type": "code",
   "execution_count": 3,
   "metadata": {},
   "outputs": [
    {
     "data": {
      "application/vnd.jupyter.widget-view+json": {
       "model_id": "fdb6ded1d86d4ed69aafc9346828851d",
       "version_major": 2,
       "version_minor": 0
      },
      "text/plain": [
       "  0%|          | 0/1 [00:00<?, ?it/s]"
      ]
     },
     "metadata": {},
     "output_type": "display_data"
    },
    {
     "name": "stdout",
     "output_type": "stream",
     "text": [
      "[0.1462 0.7256 0.0434 0.0848 0.4479 0.     0.2989 0.2532 0.0729 0.1234\n",
      " 0.2459 0.5578 0.333  0.151  0.4118 0.1042]\n"
     ]
    }
   ],
   "source": [
    "import numpy as np\n",
    "import json\n",
    "import utils_cplex\n",
    "import time\n",
    "from tqdm.notebook import tqdm\n",
    "\n",
    "# Setup \n",
    "n = 4                   # size matrix\n",
    "k = (n-1)**2 + 1        # decomposition size\n",
    "file_name = 'qbench_' + str(n) + '_dense.json'\n",
    "file = open('qbench/' + file_name)\n",
    "data = json.load(file)\n",
    "\n",
    "num_instances = 1\n",
    "\n",
    "for i in tqdm(range(0, num_instances)):\n",
    "    scaled_x_star = np.array(data[str(i)]['scaled_doubly_stochastic_matrix'])\n",
    "    scale = np.array(data[str(i+4)]['scale'])\n",
    "    x_star = scaled_x_star / scale\n",
    "    start_time = time.time()\n",
    "    # print(i)\n",
    "    print(x_star)\n",
    "    birk = utils_cplex.BirkCplex(x_star)\n",
    "    status_cplex, p_cplex, w_cplex = birk.solve() \n",
    "    m = int(np.size(p_cplex)/(n*n))\n",
    "    v = np.array(w_cplex).dot(np.reshape(p_cplex, (m,n*n)))\n",
    "    print(v)\n",
    "    print(\"id: \" + str(i) + \" \\t time: \" + str(time.time() - start_time))\n",
    "    # print(\"\\n\")\n",
    "    \n",
    "    \n",
    "\n"
   ]
  }
 ],
 "metadata": {
  "kernelspec": {
   "display_name": "qv",
   "language": "python",
   "name": "python3"
  },
  "language_info": {
   "codemirror_mode": {
    "name": "ipython",
    "version": 3
   },
   "file_extension": ".py",
   "mimetype": "text/x-python",
   "name": "python",
   "nbconvert_exporter": "python",
   "pygments_lexer": "ipython3",
   "version": "3.9.18"
  }
 },
 "nbformat": 4,
 "nbformat_minor": 2
}
